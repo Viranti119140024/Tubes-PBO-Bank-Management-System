{
 "cells": [
  {
   "cell_type": "code",
   "execution_count": 1,
   "id": "1d41584f",
   "metadata": {},
   "outputs": [],
   "source": [
    "from data.Account import *\n",
    "from data.Database import Database"
   ]
  },
  {
   "cell_type": "code",
   "execution_count": 5,
   "id": "b529dab9",
   "metadata": {},
   "outputs": [
    {
     "name": "stdout",
     "output_type": "stream",
     "text": [
      "(10, 39, 0)\n"
     ]
    }
   ],
   "source": [
    "c = Database()\n",
    "cur = c.getCursor()\n",
    "cur.execute(\"DELETE FROM saving WHERE id=10\")\n",
    "print(cur.fetchone())\n",
    "c.getDb().close()"
   ]
  },
  {
   "cell_type": "code",
   "execution_count": null,
   "id": "49e9cfae",
   "metadata": {},
   "outputs": [],
   "source": [
    "ac = AccountSaving()\n",
    "ac = ac.getSavingByCustomerId(1)\n",
    "ac[5].getBalance()"
   ]
  },
  {
   "cell_type": "code",
   "execution_count": null,
   "id": "3f7ae152",
   "metadata": {},
   "outputs": [],
   "source": [
    "print(ac[5].getId())\n",
    "ac[5].destroy()"
   ]
  }
 ],
 "metadata": {
  "kernelspec": {
   "display_name": "Python 3.9.5 64-bit",
   "language": "python",
   "name": "python395jvsc74a57bd0a664208857e5d4112e64e6cda0b7bbeaeae60863de95c5006403f972afd27b3b"
  },
  "language_info": {
   "codemirror_mode": {
    "name": "ipython",
    "version": 3
   },
   "file_extension": ".py",
   "mimetype": "text/x-python",
   "name": "python",
   "nbconvert_exporter": "python",
   "pygments_lexer": "ipython3",
   "version": "3.9.5"
  }
 },
 "nbformat": 4,
 "nbformat_minor": 5
}
