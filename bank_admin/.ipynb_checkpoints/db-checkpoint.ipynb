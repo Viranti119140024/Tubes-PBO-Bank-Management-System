{
 "cells": [
  {
   "cell_type": "code",
   "execution_count": 1,
   "metadata": {},
   "outputs": [],
   "source": [
    "from data.Account import *\n",
    "from data.User import *"
   ]
  },
  {
   "cell_type": "code",
   "execution_count": 2,
   "metadata": {},
   "outputs": [],
   "source": [
    "ac = AccountChecking()\n",
    "ac.deposit(1000)\n",
    "ac.withdraw(2000)\n",
    "ac.balanceEnquiry()\n",
    "\n",
    "aas = AccountSaving()\n",
    "aas.deposit(1000)\n",
    "aas.balanceEnquiry()\n",
    "\n",
    "aal = AccountLoan()\n",
    "aal.balanceEnquiry()"
   ]
  },
  {
   "cell_type": "code",
   "execution_count": 3,
   "metadata": {},
   "outputs": [
    {
     "data": {
      "text/plain": [
       "True"
      ]
     },
     "execution_count": 3,
     "metadata": {},
     "output_type": "execute_result"
    }
   ],
   "source": [
    "cust = Customer()\n",
    "cust.login(\"mail@local.com\", \"123123123\")"
   ]
  },
  {
   "cell_type": "code",
   "execution_count": 4,
   "metadata": {},
   "outputs": [
    {
     "name": "stdout",
     "output_type": "stream",
     "text": [
      "1\n"
     ]
    }
   ],
   "source": [
    "cust = Customer()\n",
    "uu = cust.getCustomerByEmail(\"mail@local.com\")\n",
    "print(uu.getId())"
   ]
  },
  {
   "cell_type": "code",
   "execution_count": 5,
   "metadata": {},
   "outputs": [
    {
     "data": {
      "text/plain": [
       "True"
      ]
     },
     "execution_count": 5,
     "metadata": {},
     "output_type": "execute_result"
    }
   ],
   "source": [
    "cc = BankAdmin()\n",
    "cc.login(\"admin@local.com\", \"123123123\")"
   ]
  },
  {
   "cell_type": "code",
   "execution_count": 6,
   "metadata": {},
   "outputs": [
    {
     "data": {
      "text/plain": [
       "6"
      ]
     },
     "execution_count": 6,
     "metadata": {},
     "output_type": "execute_result"
    }
   ],
   "source": [
    "cd = Customer()\n",
    "cd.login(\"mail@local.com\", \"123123123\")\n",
    "len(cd.getAllCustomer())"
   ]
  },
  {
   "cell_type": "code",
   "execution_count": 7,
   "metadata": {},
   "outputs": [
    {
     "data": {
      "text/plain": [
       "False"
      ]
     },
     "execution_count": 7,
     "metadata": {},
     "output_type": "execute_result"
    }
   ],
   "source": [
    "cd = Customer()\n",
    "cd.create(\"emailad@local.com\", \"12345678\", \"dimana\", \"nama lengkap\", \"123123123\")"
   ]
  },
  {
   "cell_type": "code",
   "execution_count": 8,
   "metadata": {},
   "outputs": [],
   "source": [
    "sv = AccountSaving()\n",
    "sav = sv.getAllSavings()\n",
    "sav = sav[0]\n",
    "sav.getCustomerId()\n",
    "\n",
    "cus = Customer()\n",
    "cus.getCustomerById(sav.getCustomerId)"
   ]
  },
  {
   "cell_type": "code",
   "execution_count": 10,
   "metadata": {},
   "outputs": [
    {
     "data": {
      "text/plain": [
       "'Nokia'"
      ]
     },
     "execution_count": 10,
     "metadata": {},
     "output_type": "execute_result"
    }
   ],
   "source": [
    "cus.getCustomerById(1)"
   ]
  }
 ],
 "metadata": {
  "kernelspec": {
   "display_name": "Python 3.9.5 64-bit",
   "language": "python",
   "name": "python395jvsc74a57bd0a664208857e5d4112e64e6cda0b7bbeaeae60863de95c5006403f972afd27b3b"
  },
  "language_info": {
   "codemirror_mode": {
    "name": "ipython",
    "version": 3
   },
   "file_extension": ".py",
   "mimetype": "text/x-python",
   "name": "python",
   "nbconvert_exporter": "python",
   "pygments_lexer": "ipython3",
   "version": "3.9.5"
  },
  "metadata": {
   "interpreter": {
    "hash": "a664208857e5d4112e64e6cda0b7bbeaeae60863de95c5006403f972afd27b3b"
   }
  }
 },
 "nbformat": 4,
 "nbformat_minor": 2
}
